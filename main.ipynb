{
 "cells": [
  {
   "cell_type": "markdown",
   "id": "3a8ff246",
   "metadata": {},
   "source": [
    "## Making a Request to the ESPN Fantasy API"
   ]
  },
  {
   "cell_type": "code",
   "execution_count": 3,
   "id": "f7db15c6",
   "metadata": {},
   "outputs": [],
   "source": [
    "import requests\n",
    "import pandas as pd\n",
    "import matplotlib.pyplot as plt"
   ]
  },
  {
   "cell_type": "code",
   "execution_count": 4,
   "id": "7feed6b3",
   "metadata": {},
   "outputs": [],
   "source": [
    "swid = '{FEDFD550-8D47-4C16-A6AC-028D402FA873}'\n",
    "espn_s2 = 'AEAYvjo76e3PfNkb0gHcEuispXq4I0eV3cx7PPprc38ct28AkZf3i0%2FwWGZWyjMxXgk7mYizgN9oqeerqvjtT6pl6qEpp5GJQjNIBOXd%2F4q186B406uxTesz10Xk56u9BGRzZIH1N48f2QmKSU49Fg8k%2BAI9A8WLUok9CLILSPuh5LRjjqoa7MbSOUZNs9xqlWFXuRsy0zo51fy44sY92Ri91Ey7YStwDfPoRbNuoP0KvXUkcCymfIvboGGlMr3QfY2WLpNFBuBIgI6j2tvCKZehS7e2sdkiVQonjLKtqWTqqw%3D%3D'"
   ]
  },
  {
   "cell_type": "code",
   "execution_count": 5,
   "id": "522beed7",
   "metadata": {},
   "outputs": [],
   "source": [
    "league_id = '656635509'\n",
    "season = '2023'\n",
    "week = 1"
   ]
  },
  {
   "cell_type": "code",
   "execution_count": 6,
   "id": "054dd456",
   "metadata": {},
   "outputs": [],
   "source": [
    "url = 'https://lm-api-reads.fantasy.espn.com/apis/v3/games/ffl/seasons/{}/segments/0/leagues/{}?view=mMatchup&view=mMatchupScore'.format(season, league_id)"
   ]
  },
  {
   "cell_type": "code",
   "execution_count": 7,
   "id": "9f94bdf1",
   "metadata": {},
   "outputs": [],
   "source": [
    "r = requests.get(url,\n",
    "                     params={'scoreingPeriodId':week},\n",
    "                     cookies={\"SWID\": swid, \"espn_s2\": espn_s2})\n",
    "espn_raw_data = r.json()"
   ]
  },
  {
   "cell_type": "markdown",
   "id": "7094ed5c",
   "metadata": {},
   "source": [
    "## Saving the JSON Response to a Pandas Dataframe"
   ]
  },
  {
   "cell_type": "markdown",
   "id": "c4dc89fe",
   "metadata": {},
   "source": [
    "### Accessing Nested JSON Data "
   ]
  },
  {
   "cell_type": "code",
   "execution_count": 8,
   "id": "459b2584",
   "metadata": {},
   "outputs": [],
   "source": [
    "columns = [\n",
    "        'Team',\n",
    "        'Player',\n",
    "        'Slot',\n",
    "        'Projected',\n",
    "        'Actual']"
   ]
  },
  {
   "cell_type": "code",
   "execution_count": 9,
   "id": "648546ff",
   "metadata": {},
   "outputs": [],
   "source": [
    " # get a single team\n",
    "team = espn_raw_data['teams'][0]\n",
    "team_id = team['id']"
   ]
  },
  {
   "cell_type": "code",
   "execution_count": 10,
   "id": "82db18df",
   "metadata": {},
   "outputs": [],
   "source": [
    "team_abbrev = {\n",
    "    1: 'BRAD',\n",
    "    2: 'SAi',\n",
    "    3: 'DAP',\n",
    "    4: 'DAM',\n",
    "    5: 'KUBs',\n",
    "    6: 'JSOs',\n",
    "    7: 'TST',\n",
    "    8: 'DOOM',\n",
    "}"
   ]
  },
  {
   "cell_type": "code",
   "execution_count": 11,
   "id": "77516a0d",
   "metadata": {},
   "outputs": [
    {
     "name": "stdout",
     "output_type": "stream",
     "text": [
      "BRAD\n"
     ]
    }
   ],
   "source": [
    "team_owner = team_abbrev[team_id]\n",
    "print(team_owner)"
   ]
  },
  {
   "cell_type": "code",
   "execution_count": 17,
   "id": "23d8cd3c",
   "metadata": {},
   "outputs": [
    {
     "name": "stdout",
     "output_type": "stream",
     "text": [
      "Justin Jefferson\n",
      "4\n",
      "CeeDee Lamb\n",
      "4\n",
      "Travis Etienne Jr.\n",
      "2\n",
      "DeAndre Hopkins\n",
      "23\n",
      "James Cook\n",
      "2\n",
      "Drake London\n",
      "20\n",
      "Brian Robinson Jr.\n",
      "20\n",
      "Isiah Pacheco\n",
      "20\n",
      "Jordan Addison\n",
      "20\n",
      "Brock Purdy\n",
      "0\n",
      "Sam Howell\n",
      "20\n",
      "Kenneth Walker III\n",
      "20\n",
      "Brandon Aubrey\n",
      "17\n",
      "Jake Ferguson\n",
      "6\n",
      "Ezekiel Elliott\n",
      "20\n",
      "Bills D/ST\n",
      "16\n"
     ]
    }
   ],
   "source": [
    "#loop over every player on the teams roster\n",
    "for player in team['roster']['entries']:\n",
    "    print(player['playerPoolEntry']['player']['fullName'])\n",
    "    print(player['lineupSlotId'])"
   ]
  },
  {
   "cell_type": "code",
   "execution_count": 12,
   "id": "026f9648",
   "metadata": {},
   "outputs": [],
   "source": [
    "eligible_positions = {\n",
    "    0 : 'QB', \n",
    "    2 : 'RB', \n",
    "    4 : 'WR',\n",
    "    6 : 'TE', \n",
    "    7 : 'OP',\n",
    "    16: 'D/ST', \n",
    "    17: 'K',\n",
    "    20: 'Bench',\n",
    "    21: 'IR',\n",
    "    23: 'Flex'\n",
    "}"
   ]
  },
  {
   "cell_type": "code",
   "execution_count": 13,
   "id": "5998babb",
   "metadata": {},
   "outputs": [
    {
     "name": "stdout",
     "output_type": "stream",
     "text": [
      "Justin Jefferson\n",
      "4\n",
      "WR\n",
      "CeeDee Lamb\n",
      "4\n",
      "WR\n",
      "Travis Etienne Jr.\n",
      "2\n",
      "RB\n",
      "DeAndre Hopkins\n",
      "23\n",
      "Flex\n",
      "James Cook\n",
      "2\n",
      "RB\n",
      "Drake London\n",
      "20\n",
      "Bench\n",
      "Brian Robinson Jr.\n",
      "20\n",
      "Bench\n",
      "Isiah Pacheco\n",
      "20\n",
      "Bench\n",
      "Jordan Addison\n",
      "20\n",
      "Bench\n",
      "Brock Purdy\n",
      "0\n",
      "QB\n",
      "Sam Howell\n",
      "20\n",
      "Bench\n",
      "Kenneth Walker III\n",
      "20\n",
      "Bench\n",
      "Brandon Aubrey\n",
      "17\n",
      "K\n",
      "Jake Ferguson\n",
      "6\n",
      "TE\n",
      "Ezekiel Elliott\n",
      "20\n",
      "Bench\n",
      "Bills D/ST\n",
      "16\n",
      "D/ST\n"
     ]
    }
   ],
   "source": [
    "for player in team['roster']['entries']:\n",
    "    print(player['playerPoolEntry']['player']['fullName'])\n",
    "    print(player['lineupSlotId'])\n",
    "    lineup_slot = player['lineupSlotId']\n",
    "    print(eligible_positions[lineup_slot])"
   ]
  },
  {
   "cell_type": "markdown",
   "id": "9c552abe",
   "metadata": {},
   "source": [
    "### Projected and Actual Points"
   ]
  },
  {
   "cell_type": "code",
   "execution_count": 14,
   "id": "eeaeea8c",
   "metadata": {},
   "outputs": [],
   "source": [
    "# calculate for a single player\n",
    "team = espn_raw_data['teams'][0]\n",
    "player = team['roster']['entries'][0]\n",
    "player_name = player['playerPoolEntry']['player']['fullName']"
   ]
  },
  {
   "cell_type": "code",
   "execution_count": 15,
   "id": "627d3d9b",
   "metadata": {},
   "outputs": [],
   "source": [
    "for stats in player['playerPoolEntry']['player']['stats']:\n",
    "    #skip rows where the scoring period does not match with current week\n",
    "    if stats['scoringPeriodId'] != week:\n",
    "        continue\n",
    "    # if the souce id = 0, these are actual stats\n",
    "    if stats['statSourceId'] == 0:\n",
    "        actual = stats['appliedTotal']\n",
    "    # if the source id = 1, these are projected stats\n",
    "    elif stats['statSourceId'] == 1:\n",
    "        projected = stats['appliedTotal']"
   ]
  },
  {
   "cell_type": "code",
   "execution_count": 16,
   "id": "39b7796c",
   "metadata": {},
   "outputs": [],
   "source": [
    "team = espn_raw_data['teams'][0]\n",
    "for player in team['roster']['entries']:\n",
    "    player_name = player['playerPoolEntry']['player']['fullName']\n",
    "    # get the projected and actual points\n",
    "    projected = None, \n",
    "    actual = None\n",
    "    \n",
    "    # loop over the stats for each player\n",
    "    for stats in player['playerPoolEntry']['player']['stats']:\n",
    "        # skip the rows where the scoring period does not match up with the curren week\n",
    "        if stats['scoringPeriodId'] != week:\n",
    "            continue\n",
    "        # if the source id = 0 then these are actual stats\n",
    "        if stats['statSourceId'] == 0:\n",
    "            actual = stats['appliedTotal']\n",
    "        # if the source id = 1 then these are projected stats\n",
    "        elif stats['statSourceId'] == 1:\n",
    "            projected = stats['appliedTotal']"
   ]
  },
  {
   "cell_type": "code",
   "execution_count": 18,
   "id": "a04d78b9",
   "metadata": {},
   "outputs": [
    {
     "name": "stdout",
     "output_type": "stream",
     "text": [
      "Week 1\n",
      "Week 2\n",
      "Week 3\n",
      "Week 4\n",
      "Week 5\n",
      "Week 6\n",
      "Week 7\n",
      "Week 8\n",
      "Week 9\n",
      "Week 10\n",
      "Week 11\n",
      "Week 12\n",
      "Week 13\n",
      "Week 14\n",
      "Week 15\n",
      "Week 16\n",
      "Week 17\n",
      "Done getting projected & actual stats.\n"
     ]
    }
   ],
   "source": [
    "# create an empty list to append data to\n",
    "projection_data = []\n",
    "\n",
    "for week in range(1, 18):\n",
    "    print('Week', week)\n",
    "    \n",
    "    # get the raw data\n",
    "    r = requests.get(url,\n",
    "                    params={'scoringPeriodId': week},\n",
    "                    cookies={\"SWID\": swid, \"espn_s2\": espn_s2})\n",
    "    espn_raw_data = r.json()\n",
    "    \n",
    "    # loop over each team in the request\n",
    "    for team in espn_raw_data['teams']:\n",
    "        # get the team_id to map to team names\n",
    "        team_id = team['id']\n",
    "        # create a new column with the team_abbrev using the team_id as the key\n",
    "        team_owner = team_abbrev[team_id]\n",
    "        # loop over every player on the teams roster\n",
    "        for player in team['roster']['entries']:\n",
    "            player_name = player['playerPoolEntry']['player']['fullName']\n",
    "            lineup_slot = player['lineupSlotId']\n",
    "            # create a new column with the position using the lineup slot as the key\n",
    "            position = eligible_positions[lineup_slot]\n",
    "            \n",
    "            # get the projected and actual points\n",
    "            projected = None,\n",
    "            actual = None\n",
    "            \n",
    "            # loop over the stats for each player\n",
    "            for stats in player['playerPoolEntry']['player']['stats']:\n",
    "                # skip rows with mismatched scoring period\n",
    "                if stats['scoringPeriodId'] != week:\n",
    "                    continue\n",
    "                # if the source id = 0, these are actual stats\n",
    "                if stats['statSourceId'] == 0:\n",
    "                    actual = stats['appliedTotal']\n",
    "                # if the source id = 1, these are the projected stats\n",
    "                elif stats['statSourceId'] == 1:\n",
    "                    projected = stats['appliedTotal']\n",
    "            \n",
    "            # append all the data to the empty list\n",
    "            projection_data.append([\n",
    "                week,\n",
    "                team_owner,\n",
    "                player_name,\n",
    "                lineup_slot,\n",
    "                position,\n",
    "                projected,\n",
    "                actual\n",
    "            ])\n",
    "print('Done getting projected & actual stats.')"
   ]
  },
  {
   "cell_type": "code",
   "execution_count": 19,
   "id": "7ecaa267",
   "metadata": {},
   "outputs": [
    {
     "data": {
      "text/html": [
       "<div>\n",
       "<style scoped>\n",
       "    .dataframe tbody tr th:only-of-type {\n",
       "        vertical-align: middle;\n",
       "    }\n",
       "\n",
       "    .dataframe tbody tr th {\n",
       "        vertical-align: top;\n",
       "    }\n",
       "\n",
       "    .dataframe thead th {\n",
       "        text-align: right;\n",
       "    }\n",
       "</style>\n",
       "<table border=\"1\" class=\"dataframe\">\n",
       "  <thead>\n",
       "    <tr style=\"text-align: right;\">\n",
       "      <th></th>\n",
       "      <th>Week</th>\n",
       "      <th>Team</th>\n",
       "      <th>Player</th>\n",
       "      <th>Lineup Slot</th>\n",
       "      <th>Position</th>\n",
       "      <th>Projected</th>\n",
       "      <th>Actual</th>\n",
       "    </tr>\n",
       "  </thead>\n",
       "  <tbody>\n",
       "    <tr>\n",
       "      <th>1026</th>\n",
       "      <td>8</td>\n",
       "      <td>DOOM</td>\n",
       "      <td>Tee Higgins</td>\n",
       "      <td>20</td>\n",
       "      <td>Bench</td>\n",
       "      <td>10.656479</td>\n",
       "      <td>9.40</td>\n",
       "    </tr>\n",
       "    <tr>\n",
       "      <th>364</th>\n",
       "      <td>3</td>\n",
       "      <td>TST</td>\n",
       "      <td>Deshaun Watson</td>\n",
       "      <td>20</td>\n",
       "      <td>Bench</td>\n",
       "      <td>17.384111</td>\n",
       "      <td>21.16</td>\n",
       "    </tr>\n",
       "    <tr>\n",
       "      <th>808</th>\n",
       "      <td>7</td>\n",
       "      <td>SAi</td>\n",
       "      <td>Anders Carlson</td>\n",
       "      <td>17</td>\n",
       "      <td>K</td>\n",
       "      <td>8.29391</td>\n",
       "      <td>4.00</td>\n",
       "    </tr>\n",
       "    <tr>\n",
       "      <th>974</th>\n",
       "      <td>8</td>\n",
       "      <td>DAM</td>\n",
       "      <td>Luke Musgrave</td>\n",
       "      <td>20</td>\n",
       "      <td>Bench</td>\n",
       "      <td>6.672755</td>\n",
       "      <td>1.90</td>\n",
       "    </tr>\n",
       "    <tr>\n",
       "      <th>48</th>\n",
       "      <td>1</td>\n",
       "      <td>DAM</td>\n",
       "      <td>Bijan Robinson</td>\n",
       "      <td>2</td>\n",
       "      <td>RB</td>\n",
       "      <td>0.0</td>\n",
       "      <td>17.30</td>\n",
       "    </tr>\n",
       "    <tr>\n",
       "      <th>1276</th>\n",
       "      <td>10</td>\n",
       "      <td>TST</td>\n",
       "      <td>Justin Herbert</td>\n",
       "      <td>0</td>\n",
       "      <td>QB</td>\n",
       "      <td>18.872313</td>\n",
       "      <td>28.42</td>\n",
       "    </tr>\n",
       "    <tr>\n",
       "      <th>1838</th>\n",
       "      <td>15</td>\n",
       "      <td>BRAD</td>\n",
       "      <td>Jake Ferguson</td>\n",
       "      <td>6</td>\n",
       "      <td>TE</td>\n",
       "      <td>9.502621</td>\n",
       "      <td>7.40</td>\n",
       "    </tr>\n",
       "    <tr>\n",
       "      <th>1806</th>\n",
       "      <td>14</td>\n",
       "      <td>TST</td>\n",
       "      <td>Michael Thomas</td>\n",
       "      <td>20</td>\n",
       "      <td>Bench</td>\n",
       "      <td>0.0</td>\n",
       "      <td>0.00</td>\n",
       "    </tr>\n",
       "    <tr>\n",
       "      <th>2013</th>\n",
       "      <td>16</td>\n",
       "      <td>DAM</td>\n",
       "      <td>Alvin Kamara</td>\n",
       "      <td>2</td>\n",
       "      <td>RB</td>\n",
       "      <td>14.762797</td>\n",
       "      <td>6.00</td>\n",
       "    </tr>\n",
       "    <tr>\n",
       "      <th>822</th>\n",
       "      <td>7</td>\n",
       "      <td>DAP</td>\n",
       "      <td>Jerick McKinnon</td>\n",
       "      <td>20</td>\n",
       "      <td>Bench</td>\n",
       "      <td>5.229207</td>\n",
       "      <td>3.60</td>\n",
       "    </tr>\n",
       "  </tbody>\n",
       "</table>\n",
       "</div>"
      ],
      "text/plain": [
       "      Week  Team           Player  Lineup Slot Position  Projected  Actual\n",
       "1026     8  DOOM      Tee Higgins           20    Bench  10.656479    9.40\n",
       "364      3   TST   Deshaun Watson           20    Bench  17.384111   21.16\n",
       "808      7   SAi   Anders Carlson           17        K    8.29391    4.00\n",
       "974      8   DAM    Luke Musgrave           20    Bench   6.672755    1.90\n",
       "48       1   DAM   Bijan Robinson            2       RB        0.0   17.30\n",
       "1276    10   TST   Justin Herbert            0       QB  18.872313   28.42\n",
       "1838    15  BRAD    Jake Ferguson            6       TE   9.502621    7.40\n",
       "1806    14   TST   Michael Thomas           20    Bench        0.0    0.00\n",
       "2013    16   DAM     Alvin Kamara            2       RB  14.762797    6.00\n",
       "822      7   DAP  Jerick McKinnon           20    Bench   5.229207    3.60"
      ]
     },
     "execution_count": 19,
     "metadata": {},
     "output_type": "execute_result"
    }
   ],
   "source": [
    "# convert the list to a dataframe\n",
    "df = pd.DataFrame(projection_data,\n",
    "                  columns = ['Week',\n",
    "                            'Team',\n",
    "                            'Player',\n",
    "                            'Lineup Slot',\n",
    "                            'Position',\n",
    "                            'Projected',\n",
    "                            'Actual'])\n",
    "\n",
    "# sample ten random rows of data\n",
    "df.sample(10)"
   ]
  },
  {
   "cell_type": "markdown",
   "id": "cd45ce10",
   "metadata": {},
   "source": [
    "## Plotting Actual and Projected Data"
   ]
  },
  {
   "cell_type": "code",
   "execution_count": 20,
   "id": "9801fe85",
   "metadata": {},
   "outputs": [],
   "source": [
    "# filter out bench players for projection purposes\n",
    "starters_df = df[~df['Position'].isin(['Bench'])]"
   ]
  },
  {
   "cell_type": "code",
   "execution_count": 21,
   "id": "986c349d",
   "metadata": {},
   "outputs": [
    {
     "data": {
      "text/html": [
       "<div>\n",
       "<style scoped>\n",
       "    .dataframe tbody tr th:only-of-type {\n",
       "        vertical-align: middle;\n",
       "    }\n",
       "\n",
       "    .dataframe tbody tr th {\n",
       "        vertical-align: top;\n",
       "    }\n",
       "\n",
       "    .dataframe thead th {\n",
       "        text-align: right;\n",
       "    }\n",
       "</style>\n",
       "<table border=\"1\" class=\"dataframe\">\n",
       "  <thead>\n",
       "    <tr style=\"text-align: right;\">\n",
       "      <th></th>\n",
       "      <th>Week</th>\n",
       "      <th>Team</th>\n",
       "      <th>Player</th>\n",
       "      <th>Lineup Slot</th>\n",
       "      <th>Position</th>\n",
       "      <th>Projected</th>\n",
       "      <th>Actual</th>\n",
       "    </tr>\n",
       "  </thead>\n",
       "  <tbody>\n",
       "    <tr>\n",
       "      <th>2008</th>\n",
       "      <td>16</td>\n",
       "      <td>DAM</td>\n",
       "      <td>Lamar Jackson</td>\n",
       "      <td>0</td>\n",
       "      <td>QB</td>\n",
       "      <td>21.237774</td>\n",
       "      <td>22.58</td>\n",
       "    </tr>\n",
       "    <tr>\n",
       "      <th>1628</th>\n",
       "      <td>13</td>\n",
       "      <td>DAM</td>\n",
       "      <td>Zack Moss</td>\n",
       "      <td>23</td>\n",
       "      <td>Flex</td>\n",
       "      <td>15.418625</td>\n",
       "      <td>6.70</td>\n",
       "    </tr>\n",
       "    <tr>\n",
       "      <th>1270</th>\n",
       "      <td>10</td>\n",
       "      <td>TST</td>\n",
       "      <td>Ja'Marr Chase</td>\n",
       "      <td>4</td>\n",
       "      <td>WR</td>\n",
       "      <td>17.45338</td>\n",
       "      <td>20.90</td>\n",
       "    </tr>\n",
       "    <tr>\n",
       "      <th>322</th>\n",
       "      <td>3</td>\n",
       "      <td>KUBs</td>\n",
       "      <td>Austin Ekeler</td>\n",
       "      <td>2</td>\n",
       "      <td>RB</td>\n",
       "      <td>0.0</td>\n",
       "      <td>0.00</td>\n",
       "    </tr>\n",
       "    <tr>\n",
       "      <th>340</th>\n",
       "      <td>3</td>\n",
       "      <td>JSOs</td>\n",
       "      <td>Jahmyr Gibbs</td>\n",
       "      <td>2</td>\n",
       "      <td>RB</td>\n",
       "      <td>13.858739</td>\n",
       "      <td>8.70</td>\n",
       "    </tr>\n",
       "  </tbody>\n",
       "</table>\n",
       "</div>"
      ],
      "text/plain": [
       "      Week  Team         Player  Lineup Slot Position  Projected  Actual\n",
       "2008    16   DAM  Lamar Jackson            0       QB  21.237774   22.58\n",
       "1628    13   DAM      Zack Moss           23     Flex  15.418625    6.70\n",
       "1270    10   TST  Ja'Marr Chase            4       WR   17.45338   20.90\n",
       "322      3  KUBs  Austin Ekeler            2       RB        0.0    0.00\n",
       "340      3  JSOs   Jahmyr Gibbs            2       RB  13.858739    8.70"
      ]
     },
     "execution_count": 21,
     "metadata": {},
     "output_type": "execute_result"
    }
   ],
   "source": [
    "# fill any NA values to reduce errors when grouping\n",
    "starters_df = starters_df.fillna(0)\n",
    "# check a sample to be sure of bench removal\n",
    "starters_df.sample(5)"
   ]
  },
  {
   "cell_type": "code",
   "execution_count": 22,
   "id": "7b11b117",
   "metadata": {},
   "outputs": [],
   "source": [
    "# test on one team\n",
    "# filter downa and select only one team's starters\n",
    "team_starters_df = starters_df[starters_df['Team'] == 'DOOM']"
   ]
  },
  {
   "cell_type": "code",
   "execution_count": 23,
   "id": "7b35f7ed",
   "metadata": {},
   "outputs": [],
   "source": [
    "# select the Week and value columns from the groupby object\n",
    "plot_data = team_starters_df[['Week','Projected','Actual']].groupby(['Week']).sum().reset_index()"
   ]
  },
  {
   "cell_type": "code",
   "execution_count": 24,
   "id": "9b47ce5b",
   "metadata": {},
   "outputs": [
    {
     "data": {
      "image/png": "[encoded data removed]",
      "text/plain": [
       "<Figure size 1200x600 with 1 Axes>"
      ]
     },
     "metadata": {},
     "output_type": "display_data"
    }
   ],
   "source": [
    "# create the plot\n",
    "plt.figure(figsize=(12, 6))\n",
    "plt.plot(plot_data['Week'], plot_data['Projected'], 'bo', label='Projected')\n",
    "plt.plot(plot_data['Week'], plot_data['Actual'], 'ro', label='Actual')\n",
    "plt.plot(plot_data['Week'], plot_data['Projected'], 'b-')\n",
    "plt.plot(plot_data['Week'], plot_data['Actual'], 'r-')\n",
    "# add a legend and display plot\n",
    "plt.title('Projected vs Actual Points - Team: DOOM')\n",
    "plt.legend()\n",
    "plt.xticks(plot_data['Week'])\n",
    "plt.show()"
   ]
  },
  {
   "cell_type": "markdown",
   "id": "ff7dbb82",
   "metadata": {},
   "source": [
    "### Create a function to create a graph for each team"
   ]
  },
  {
   "cell_type": "code",
   "execution_count": 25,
   "id": "7fd6a331",
   "metadata": {},
   "outputs": [],
   "source": [
    "# create a function to do it for each team\n",
    "# this will only work with bench players filtered out\n",
    "def plot_team(df, team_abbrev):\n",
    "  # filter down and select only the one teams starters \n",
    "  df2 = df[df['Team'] == team_abbrev]\n",
    " \n",
    "  # Select the Week and value columns from the groupby object\n",
    "  plot_data = df2[['Week','Projected','Actual']].groupby(['Week']).sum().reset_index()\n",
    "  # Set the figure size and create the plot\n",
    "  plt.figure(figsize=(12, 6))\n",
    "  plt.plot(plot_data['Week'], plot_data['Projected'], 'bo', label='Projected')\n",
    "  plt.plot(plot_data['Week'], plot_data['Actual'], 'ro', label='Actual')\n",
    "  plt.plot(plot_data['Week'], plot_data['Projected'], 'b-')\n",
    "  plt.plot(plot_data['Week'], plot_data['Actual'], 'r-')\n",
    "  # Add a legend and show the plot\n",
    "  plt.title(team_abbrev +' Projected vs. Actual Points')\n",
    "  plt.legend()\n",
    "  plt.xticks(plot_data['Week'])\n",
    "  plt.show()"
   ]
  },
  {
   "cell_type": "code",
   "execution_count": 26,
   "id": "3493fa8c",
   "metadata": {},
   "outputs": [
    {
     "data": {
      "image/png": "[encoded data removed]",
      "text/plain": [
       "<Figure size 1200x600 with 1 Axes>"
      ]
     },
     "metadata": {},
     "output_type": "display_data"
    }
   ],
   "source": [
    "# testing for other team\n",
    "plot_team(starters_df, 'BRAD')"
   ]
  },
  {
   "cell_type": "markdown",
   "id": "b7e4bdce",
   "metadata": {},
   "source": [
    "## Quantify the Difference in Projections & Actual Scores"
   ]
  },
  {
   "cell_type": "code",
   "execution_count": 27,
   "id": "c5f47119",
   "metadata": {},
   "outputs": [],
   "source": [
    "# create a function to get the difference of projected scores and actual scores\n",
    "def calc_difference(df):\n",
    "  return df['Projected'].sum() - df['Actual'].sum()"
   ]
  },
  {
   "cell_type": "code",
   "execution_count": 30,
   "id": "c16f96e0",
   "metadata": {},
   "outputs": [],
   "source": [
    "frank_player_df = starters_df[starters_df[\"Team\"] == 'DOOM'].groupby(['Player']).apply(calc_difference)"
   ]
  },
  {
   "cell_type": "code",
   "execution_count": 31,
   "id": "f186f692",
   "metadata": {},
   "outputs": [
    {
     "name": "stdout",
     "output_type": "stream",
     "text": [
      "Player\n",
      "Cowboys D/ST          -61.0\n",
      "Christian McCaffrey   -47.0\n",
      "Keenan Allen          -44.0\n",
      "Evan Engram           -28.0\n",
      "Chiefs D/ST           -23.0\n",
      "Justin Tucker         -16.0\n",
      "A.J. Brown            -14.0\n",
      "Derek Carr            -12.0\n",
      "Cole Kmet              -7.0\n",
      "Brandon Aiyuk           0.0\n",
      "Derrick Henry           0.0\n",
      "Zamir White             0.0\n",
      "Jordan Love             0.0\n",
      "Chuba Hubbard           2.0\n",
      "Alexander Mattison      2.0\n",
      "Jake Moody              2.0\n",
      "Tee Higgins             6.0\n",
      "Terry McLaurin          8.0\n",
      "Dalton Schultz         10.0\n",
      "Joe Burrow             10.0\n",
      "Tua Tagovailoa         27.0\n",
      "dtype: float64 2\n"
     ]
    }
   ],
   "source": [
    "with pd.option_context('display.max_rows', None, 'display.max_columns', None):\n",
    "    print(round(frank_player_df.sort_values()),2)"
   ]
  },
  {
   "cell_type": "code",
   "execution_count": null,
   "id": "95ac64d0",
   "metadata": {},
   "outputs": [],
   "source": []
  }
 ],
 "metadata": {
  "kernelspec": {
   "display_name": "Python 3 (ipykernel)",
   "language": "python",
   "name": "python3"
  },
  "language_info": {
   "codemirror_mode": {
    "name": "ipython",
    "version": 3
   },
   "file_extension": ".py",
   "mimetype": "text/x-python",
   "name": "python",
   "nbconvert_exporter": "python",
   "pygments_lexer": "ipython3",
   "version": "3.11.5"
  }
 },
 "nbformat": 4,
 "nbformat_minor": 5
}
